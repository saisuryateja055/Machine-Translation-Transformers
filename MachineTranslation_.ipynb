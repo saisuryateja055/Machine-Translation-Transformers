{
  "cells": [
    {
      "cell_type": "code",
      "execution_count": null,
      "metadata": {
        "collapsed": true,
        "id": "eW25Fez7iHSJ"
      },
      "outputs": [],
      "source": [
        "import math\n",
        "import time\n",
        "import spacy\n",
        "import numpy as np\n",
        "import os\n",
        "\n",
        "\n",
        "import torch\n",
        "import torch.nn as nn\n",
        "import torch.nn.functional as F\n",
        "import torch.optim as optim\n",
        "\n",
        "import torchtext\n",
        "from torchtext.data.functional import to_map_style_dataset\n",
        "from torch.nn.functional import pad\n",
        "from torch.utils.data import DataLoader\n",
        "from torchtext.vocab import build_vocab_from_iterator\n",
        "import torchtext.datasets as datasets\n"
      ]
    },
    {
      "cell_type": "code",
      "execution_count": null,
      "metadata": {
        "id": "5K67y2ckCwYa"
      },
      "outputs": [],
      "source": [
        "# @title\n",
        "import os\n",
        "import torch\n",
        "import torch.nn.functional as F\n",
        "from torchtext.data.utils import get_tokenizer\n",
        "from torchtext.vocab import build_vocab_from_iterator\n",
        "from torch.utils.data import DataLoader, Dataset, random_split\n",
        "\n",
        "# Function to read your custom dataset\n",
        "def read_telugu_english_data(file_path):\n",
        "    with open(file_path, 'r', encoding='utf-8') as file:\n",
        "        raw_data = []\n",
        "        for line in file:\n",
        "            telugu_sentence, english_sentence = line.strip().split('++++$++++')\n",
        "            raw_data.append((telugu_sentence, english_sentence))\n",
        "    return raw_data\n",
        "\n",
        "# Splitting the dataset\n",
        "def split_dataset(data, train_split=0.7, val_split=0.15, test_split=0.15):\n",
        "    total_size = len(data)\n",
        "    train_size = int(total_size * train_split)\n",
        "    val_size = int(total_size * val_split)\n",
        "    test_size = total_size - train_size - val_size\n",
        "    train_data, remaining_data = random_split(data, [train_size, total_size - train_size])\n",
        "    val_data, test_data = random_split(remaining_data, [val_size, test_size])\n",
        "    return list(train_data), list(val_data), list(test_data)\n",
        "\n",
        "# Custom Dataset class\n",
        "class CustomDataset(Dataset):\n",
        "    def __init__(self, data):\n",
        "        self.data = data\n",
        "\n",
        "    def __len__(self):\n",
        "        return len(self.data)\n",
        "\n",
        "    def __getitem__(self, idx):\n",
        "        return self.data[idx]\n",
        "\n",
        "    def get_raw_texts(self):\n",
        "        return [(src, trg) for src, trg in self.data]\n",
        "\n",
        "# Define tokenizers\n",
        "tokenizer_te = get_tokenizer('basic_english')  # Replace with a suitable tokenizer for Telugu\n",
        "tokenizer_en = get_tokenizer('basic_english')  # Suitable tokenizer for English\n",
        "\n",
        "# Build vocabulary function\n",
        "def build_vocabulary(tokenizer, dataset, min_freq=2):\n",
        "    def yield_tokens(data):\n",
        "        for src, trg in data:\n",
        "            yield tokenizer(src)\n",
        "            yield tokenizer(trg)\n",
        "\n",
        "    vocab = build_vocab_from_iterator(yield_tokens(dataset.get_raw_texts()), specials=[\"<unk>\", \"<pad>\", \"<bos>\", \"<eos>\"], min_freq=min_freq)\n",
        "    vocab.set_default_index(vocab['<unk>'])  # Set default index for unknown tokens\n",
        "    return vocab\n",
        "\n",
        "# Read the dataset\n",
        "file_path = '/content/english_telugu_data.txt'\n",
        "raw_data = read_telugu_english_data(file_path)\n",
        "train_data_raw, val_data_raw, test_data_raw = split_dataset(raw_data)\n",
        "\n",
        "# Create datasets\n",
        "train_dataset = CustomDataset(train_data_raw)\n",
        "valid_dataset = CustomDataset(val_data_raw)\n",
        "test_dataset = CustomDataset(test_data_raw)\n",
        "\n",
        "# Load vocabularies\n",
        "vocab_src = build_vocabulary(tokenizer_te, train_dataset)\n",
        "vocab_trg = build_vocabulary(tokenizer_en, train_dataset)\n",
        "\n",
        "# Batch generation function\n",
        "def generate_batch(data_batch):\n",
        "    de_batch, en_batch = [], []\n",
        "    device = torch.device(\"cuda\" if torch.cuda.is_available() else \"cpu\")\n",
        "\n",
        "    for (de_item, en_item) in data_batch:\n",
        "        # Convert list of indices into tensors\n",
        "        de_indices = torch.tensor([vocab_src[token] for token in tokenizer_te(de_item)], dtype=torch.long)\n",
        "        en_indices = torch.tensor([vocab_trg[token] for token in tokenizer_en(en_item)], dtype=torch.long)\n",
        "\n",
        "        # Concatenate BOS, indices, EOS\n",
        "        de_temp = torch.cat([torch.tensor([vocab_src['<bos>']], dtype=torch.long), de_indices, torch.tensor([vocab_src['<eos>']], dtype=torch.long)], dim=0).to(device)\n",
        "        en_temp = torch.cat([torch.tensor([vocab_trg['<bos>']], dtype=torch.long), en_indices, torch.tensor([vocab_trg['<eos>']], dtype=torch.long)], dim=0).to(device)\n",
        "\n",
        "        # Pad sequences to ensure consistent length\n",
        "        padded_de = F.pad(de_temp, (0, 20 - len(de_temp)), value=vocab_src['<pad>'])\n",
        "        padded_en = F.pad(en_temp, (0, 20 - len(en_temp)), value=vocab_trg['<pad>'])\n",
        "\n",
        "        de_batch.append(padded_de)\n",
        "        en_batch.append(padded_en)\n",
        "\n",
        "    return torch.stack(de_batch), torch.stack(en_batch)\n",
        "\n",
        "\n",
        "# DataLoader setup\n",
        "BATCH_SIZE = 128\n",
        "train_iter = DataLoader(train_dataset, batch_size=BATCH_SIZE, shuffle=True, drop_last=True, collate_fn=generate_batch)\n",
        "valid_iter = DataLoader(valid_dataset, batch_size=BATCH_SIZE, shuffle=True, drop_last=True, collate_fn=generate_batch)\n",
        "test_iter = DataLoader(test_dataset, batch_size=BATCH_SIZE, shuffle=True, drop_last=True, collate_fn=generate_batch)\n",
        "BOS_IDX = vocab_trg['<bos>']\n",
        "EOS_IDX = vocab_trg['<eos>']\n",
        "PAD_IDX = vocab_trg['<pad>']\n",
        "MAX_PADDING = 20\n",
        "BATCH_SIZE = 128\n"
      ]
    },
    {
      "cell_type": "code",
      "execution_count": null,
      "metadata": {
        "id": "LIwRHGTJgx2n"
      },
      "outputs": [],
      "source": [
        "class Embeddings(nn.Module):\n",
        "  def __init__(self, vocab_size, embed_size):\n",
        "    super().__init__()\n",
        "    self.lut = nn.Embedding(vocab_size, embed_size)\n",
        "    self.d_model=embed_size\n",
        "\n",
        "  def forward(self, x):\n",
        "    return (self.lut(x) * math.sqrt(self.d_model))\n"
      ]
    },
    {
      "cell_type": "code",
      "execution_count": null,
      "metadata": {
        "id": "bbm1Y6IvhosA"
      },
      "outputs": [],
      "source": [
        "class PositionalEncoding(nn.Module):\n",
        "  def __init__(self,d_model,dropout=0.1,max_len=5000):\n",
        "    super().__init__()\n",
        "    self.dropout=nn.Dropout(p=dropout)\n",
        "    pe=tc.zeros(max_len,d_model)\n",
        "    for k in np.arange(max_len):\n",
        "      for i in np.arange(d_model//2):\n",
        "        theta = k / (100** ((2*i)/d_model))\n",
        "\n",
        "\n",
        "        pe[k, 2*i] = math.sin(theta)\n",
        "\n",
        "\n",
        "        pe[k, 2*i+1] = math.cos(theta)\n",
        "        self.register_buffer(\"pe\",pe)\n",
        "  def forward(self,x):\n",
        "    x=x+self.pe[:x.size(1)].requires_grad_(False)\n",
        "    return self.dropout(x)"
      ]
    },
    {
      "cell_type": "code",
      "execution_count": null,
      "metadata": {
        "id": "mH1o4C4ullOB"
      },
      "outputs": [],
      "source": [
        "class MultiHeadAttention(nn.Module):\n",
        "    def __init__(self, d_model, n_heads, dropout=0.1):\n",
        "        super().__init__()\n",
        "        self.d_model = d_model\n",
        "        self.n_heads = n_heads\n",
        "        self.d_key = d_model // n_heads\n",
        "        self.wq = nn.Linear(d_model, d_model)\n",
        "        self.wk = nn.Linear(d_model, d_model)\n",
        "        self.wv = nn.Linear(d_model, d_model)\n",
        "        self.wo = nn.Linear(d_model, d_model)\n",
        "        self.dropout = nn.Dropout(p=dropout)\n",
        "\n",
        "    def forward(self, query, key, value, mask=None):\n",
        "        batch_size = query.shape[0]\n",
        "        q = self.wq(query)\n",
        "        k = self.wk(key)\n",
        "        v = self.wv(value)\n",
        "\n",
        "\n",
        "\n",
        "        q = q.view(batch_size, -1, self.n_heads, self.d_key).permute(0, 2, 1, 3)\n",
        "        k = k.view(batch_size, -1, self.n_heads, self.d_key).permute(0, 2, 1, 3)\n",
        "        v = v.view(batch_size, -1, self.n_heads, self.d_key).permute(0, 2, 1, 3)\n",
        "\n",
        "        scaled_dot_prod = torch.matmul(q, k.permute(0, 1, 3, 2)) / math.sqrt(self.d_key)\n",
        "        if mask is not None:\n",
        "            scaled_dot_prod = scaled_dot_prod.masked_fill(mask == 0, -1e10)\n",
        "\n",
        "        attention_probs = torch.softmax(scaled_dot_prod, dim=-1)\n",
        "        A = torch.matmul(self.dropout(attention_probs), v)\n",
        "        A = A.permute(0, 2, 1, 3).contiguous()\n",
        "        A = A.view(batch_size, -1, self.n_heads * self.d_key)\n",
        "        output = self.wo(A)\n",
        "        return output,attention_probs\n"
      ]
    },
    {
      "cell_type": "code",
      "execution_count": null,
      "metadata": {
        "id": "atrv4DZYnI8J"
      },
      "outputs": [],
      "source": [
        "class PositionwiseFeedForward(nn.Module):\n",
        "  def __init__(self,d_model,d_ff,dropout=0.1):\n",
        "    super().__init__()\n",
        "    self.fc1=nn.Linear(d_model,d_ff)\n",
        "    self.fc2=nn.Linear(d_ff,d_model)\n",
        "    self.dropout=nn.Dropout(p=dropout)\n",
        "  def forward(self,x):\n",
        "    x=self.fc1(x)\n",
        "    x=F.relu(x)\n",
        "    x=self.dropout(x)\n",
        "    x=self.fc2(x)\n",
        "    return x"
      ]
    },
    {
      "cell_type": "code",
      "execution_count": null,
      "metadata": {
        "id": "KxnbIHzUpIkY"
      },
      "outputs": [],
      "source": [
        "class EncoderLayer(nn.Module):\n",
        "  def __init__(self,d_model,n_heads,d_ff,dropout):\n",
        "    super().__init__()\n",
        "    self.attention=MultiHeadAttention(d_model,n_heads,dropout)\n",
        "    self.attn_layer_norm=nn.LayerNorm(d_model)\n",
        "    self.positionwise_ffn=PositionwiseFeedForward(d_model,d_ff,dropout)\n",
        "    self.ffn_layer_norm=nn.LayerNorm(d_model)\n",
        "    self.dropout=nn.Dropout(p=dropout)\n",
        "\n",
        "  def forward(self,src,src_mask):\n",
        "    # print(\"encoder\")\n",
        "    _src,attn_probs=self.attention(src,src,src,src_mask)\n",
        "    src=self.attn_layer_norm(src+self.dropout(_src))\n",
        "    _src=self.positionwise_ffn(src)\n",
        "    src=self.ffn_layer_norm(src+self.dropout(_src))\n",
        "    return src,attn_probs\n"
      ]
    },
    {
      "cell_type": "code",
      "execution_count": null,
      "metadata": {
        "id": "DExnkC7fqaYL"
      },
      "outputs": [],
      "source": [
        "class Encoder(nn.Module):\n",
        "  def __init__(self,d_model,n_layers,n_heads,d_ff,dropout):\n",
        "    super().__init__()\n",
        "    self.layers=nn.ModuleList([EncoderLayer(d_model,n_heads,d_ff,dropout) for _ in range(n_layers)])\n",
        "    self.dropout=nn.Dropout(dropout)\n",
        "\n",
        "  def forward(self,src,src_mask):\n",
        "    for layer in self.layers:\n",
        "      src,attn_probs=layer(src,src_mask)\n",
        "    self.attn_probs=attn_probs\n",
        "    return src"
      ]
    },
    {
      "cell_type": "code",
      "execution_count": null,
      "metadata": {
        "id": "gfRng90-rPdb"
      },
      "outputs": [],
      "source": [
        "class DecodeLayer(nn.Module):\n",
        "  def __init__(self,d_model,n_heads,d_ff,dropout):\n",
        "    super().__init__()\n",
        "    self.masked_attention=MultiHeadAttention(d_model,n_heads,dropout)\n",
        "    self.masked_attn_layer_norm=nn.LayerNorm(d_model)\n",
        "    self.attention=MultiHeadAttention(d_model,n_heads,dropout)\n",
        "    self.attn_layer_norm=nn.LayerNorm(d_model)\n",
        "    self.positionwise_ffn=PositionwiseFeedForward(d_model,d_ff,dropout)\n",
        "    self.ffn_layer_norm=nn.LayerNorm(d_model)\n",
        "    self.dropout=nn.Dropout(p=dropout)\n",
        "\n",
        "  def forward(self,trg,src,trg_mask,src_mask):\n",
        "    # print(\"Decoder\")\n",
        "    _trg,attn_probs=self.masked_attention(trg,trg,trg,trg_mask)\n",
        "    trg=self.masked_attn_layer_norm(trg+self.dropout(_trg))\n",
        "    _trg,attn_probs=self.attention(trg,src,src,src_mask)\n",
        "    trg=self.attn_layer_norm(trg+self.dropout(_trg))\n",
        "    _trg=self.positionwise_ffn(trg)\n",
        "    trg=self.ffn_layer_norm(trg+self.dropout(_trg))\n",
        "    return trg,attn_probs\n"
      ]
    },
    {
      "cell_type": "code",
      "execution_count": null,
      "metadata": {
        "id": "pU2hXrib_QeY"
      },
      "outputs": [],
      "source": [
        "class Decoder(nn.Module):\n",
        "  def __init__(self,vocab_size,d_model,n_layers,n_heads,d_ffn,dropout):\n",
        "    super().__init__()\n",
        "    self.layers=nn.ModuleList([DecodeLayer(d_model,n_heads,d_ffn,dropout) for _ in range(n_layers)])\n",
        "    self.dropout=nn.Dropout(dropout)\n",
        "    self.wo=nn.Linear(d_model,vocab_size)\n",
        "\n",
        "  def forward(self,trg,src,trg_mask,src_mask):\n",
        "    for layer in self.layers:\n",
        "      trg,attn_probs=layer(trg,src,trg_mask,src_mask)\n",
        "    self.attn_probs=attn_probs\n",
        "    return self.wo(trg)\n"
      ]
    },
    {
      "cell_type": "code",
      "execution_count": null,
      "metadata": {
        "id": "rgmQ16xg_xec"
      },
      "outputs": [],
      "source": [
        "class Transformer(nn.Module):\n",
        "  def __init__(self,encoder,decoder,src_embed,trg_embed,src_pad_idx,trg_pad_idx,device):\n",
        "    super().__init__()\n",
        "    self.encoder=encoder\n",
        "    self.decoder=decoder\n",
        "    self.src_embed=src_embed\n",
        "    self.trg_embed=trg_embed\n",
        "    self.src_pad_idx=src_pad_idx\n",
        "    self.trg_pad_idx=trg_pad_idx\n",
        "    self.device=device\n",
        "\n",
        "  def make_src_mask(self,src):\n",
        "    src_mask=(src!=self.src_pad_idx).unsqueeze(1).unsqueeze(2)\n",
        "    return src_mask.to(self.device)\n",
        "\n",
        "  def make_trg_mask(self,trg):\n",
        "    seq_len=trg.shape[1]\n",
        "    trg_mask = (trg != self.trg_pad_idx).unsqueeze(1).unsqueeze(2)\n",
        "    trg_sub_mask=tc.tril(tc.ones((seq_len,seq_len))).to(self.device).bool()\n",
        "    trg_mask=trg_mask &trg_sub_mask\n",
        "    return trg_mask\n",
        "  def forward(self,src,trg):\n",
        "    src_mask=self.make_src_mask(src)\n",
        "    trg_mask=self.make_trg_mask(trg)\n",
        "    src=self.src_embed(src)\n",
        "    trg=self.trg_embed(trg)\n",
        "    src=self.encoder(src,src_mask)\n",
        "    output=self.decoder(trg,src,trg_mask,src_mask)\n",
        "    # print(f\"type decoder output {type(output)}\")\n",
        "    return output\n",
        "\n",
        "\n"
      ]
    },
    {
      "cell_type": "code",
      "execution_count": null,
      "metadata": {
        "id": "Z-wZskovASZz"
      },
      "outputs": [],
      "source": [
        "def make_model(device, src_vocab, trg_vocab, n_layers: int = 3, d_model: int = 256,\n",
        "               d_ffn: int = 2048, n_heads: int = 8, dropout: float = 0.1,\n",
        "               max_length: int = 5000):\n",
        "  encoder = Encoder(d_model, n_layers, n_heads, d_ffn, dropout)\n",
        "  decoder = Decoder(len(trg_vocab), d_model, n_layers, n_heads, d_ffn, dropout)\n",
        "  src_embed = Embeddings(len(src_vocab), d_model)\n",
        "  trg_embed = Embeddings(len(trg_vocab), d_model)\n",
        "  pos_enc = PositionalEncoding(d_model, dropout, max_length)\n",
        "  model = Transformer(encoder, decoder, nn.Sequential(src_embed, pos_enc),\n",
        "                      nn.Sequential(trg_embed, pos_enc),\n",
        "                      src_pad_idx=src_vocab.get_stoi()[\"<pad>\"],\n",
        "                      trg_pad_idx=trg_vocab.get_stoi()[\"<pad>\"],\n",
        "                      device=device)\n",
        "  for p in model.parameters():\n",
        "    if p.dim() > 1:\n",
        "      nn.init.xavier_uniform_(p)\n",
        "\n",
        "  return model\n",
        "\n",
        "\n"
      ]
    },
    {
      "cell_type": "code",
      "execution_count": null,
      "metadata": {
        "colab": {
          "base_uri": "https://localhost:8080/"
        },
        "collapsed": true,
        "id": "vAQooRn4S_RI",
        "outputId": "ffae46e2-1923-49cc-a522-0ab2a33c9320"
      },
      "outputs": [
        {
          "output_type": "execute_result",
          "data": {
            "text/plain": [
              "Transformer(\n",
              "  (encoder): Encoder(\n",
              "    (layers): ModuleList(\n",
              "      (0-2): 3 x EncoderLayer(\n",
              "        (attention): MultiHeadAttention(\n",
              "          (wq): Linear(in_features=256, out_features=256, bias=True)\n",
              "          (wk): Linear(in_features=256, out_features=256, bias=True)\n",
              "          (wv): Linear(in_features=256, out_features=256, bias=True)\n",
              "          (wo): Linear(in_features=256, out_features=256, bias=True)\n",
              "          (dropout): Dropout(p=0.1, inplace=False)\n",
              "        )\n",
              "        (attn_layer_norm): LayerNorm((256,), eps=1e-05, elementwise_affine=True)\n",
              "        (positionwise_ffn): PositionwiseFeedForward(\n",
              "          (fc1): Linear(in_features=256, out_features=512, bias=True)\n",
              "          (fc2): Linear(in_features=512, out_features=256, bias=True)\n",
              "          (dropout): Dropout(p=0.1, inplace=False)\n",
              "        )\n",
              "        (ffn_layer_norm): LayerNorm((256,), eps=1e-05, elementwise_affine=True)\n",
              "        (dropout): Dropout(p=0.1, inplace=False)\n",
              "      )\n",
              "    )\n",
              "    (dropout): Dropout(p=0.1, inplace=False)\n",
              "  )\n",
              "  (decoder): Decoder(\n",
              "    (layers): ModuleList(\n",
              "      (0-2): 3 x DecodeLayer(\n",
              "        (masked_attention): MultiHeadAttention(\n",
              "          (wq): Linear(in_features=256, out_features=256, bias=True)\n",
              "          (wk): Linear(in_features=256, out_features=256, bias=True)\n",
              "          (wv): Linear(in_features=256, out_features=256, bias=True)\n",
              "          (wo): Linear(in_features=256, out_features=256, bias=True)\n",
              "          (dropout): Dropout(p=0.1, inplace=False)\n",
              "        )\n",
              "        (masked_attn_layer_norm): LayerNorm((256,), eps=1e-05, elementwise_affine=True)\n",
              "        (attention): MultiHeadAttention(\n",
              "          (wq): Linear(in_features=256, out_features=256, bias=True)\n",
              "          (wk): Linear(in_features=256, out_features=256, bias=True)\n",
              "          (wv): Linear(in_features=256, out_features=256, bias=True)\n",
              "          (wo): Linear(in_features=256, out_features=256, bias=True)\n",
              "          (dropout): Dropout(p=0.1, inplace=False)\n",
              "        )\n",
              "        (attn_layer_norm): LayerNorm((256,), eps=1e-05, elementwise_affine=True)\n",
              "        (positionwise_ffn): PositionwiseFeedForward(\n",
              "          (fc1): Linear(in_features=256, out_features=512, bias=True)\n",
              "          (fc2): Linear(in_features=512, out_features=256, bias=True)\n",
              "          (dropout): Dropout(p=0.1, inplace=False)\n",
              "        )\n",
              "        (ffn_layer_norm): LayerNorm((256,), eps=1e-05, elementwise_affine=True)\n",
              "        (dropout): Dropout(p=0.1, inplace=False)\n",
              "      )\n",
              "    )\n",
              "    (dropout): Dropout(p=0.1, inplace=False)\n",
              "    (wo): Linear(in_features=256, out_features=25279, bias=True)\n",
              "  )\n",
              "  (src_embed): Sequential(\n",
              "    (0): Embeddings(\n",
              "      (lut): Embedding(25279, 256)\n",
              "    )\n",
              "    (1): PositionalEncoding(\n",
              "      (dropout): Dropout(p=0.1, inplace=False)\n",
              "    )\n",
              "  )\n",
              "  (trg_embed): Sequential(\n",
              "    (0): Embeddings(\n",
              "      (lut): Embedding(25279, 256)\n",
              "    )\n",
              "    (1): PositionalEncoding(\n",
              "      (dropout): Dropout(p=0.1, inplace=False)\n",
              "    )\n",
              "  )\n",
              ")"
            ]
          },
          "metadata": {},
          "execution_count": 14
        }
      ],
      "source": [
        "import torch as tc\n",
        "device = tc.device('cuda' if tc.cuda.is_available() else 'cpu')\n",
        "\n",
        "model = make_model(device, vocab_src, vocab_trg,\n",
        "                   n_layers=3, n_heads=8, d_model=256,\n",
        "                   d_ffn=512, max_length=50)\n",
        "model.cuda()"
      ]
    },
    {
      "cell_type": "code",
      "execution_count": null,
      "metadata": {
        "colab": {
          "base_uri": "https://localhost:8080/"
        },
        "id": "TNdxYmdSS_mp",
        "outputId": "c9c507cc-d80d-4c6f-b25f-b2b5453f86a2"
      },
      "outputs": [
        {
          "output_type": "stream",
          "name": "stdout",
          "text": [
            "The model has 23,393,215 trainable parameters\n"
          ]
        }
      ],
      "source": [
        "def count_parameters(model):\n",
        "    return sum(p.numel() for p in model.parameters() if p.requires_grad)\n",
        "\n",
        "print(f'The model has {count_parameters(model):,} trainable parameters')"
      ]
    },
    {
      "cell_type": "code",
      "execution_count": null,
      "metadata": {
        "id": "s7285g7eaUJQ"
      },
      "outputs": [],
      "source": [
        "LEARNING_RATE = 0.0005\n",
        "\n",
        "optimizer = torch.optim.Adam(model.parameters(), lr = LEARNING_RATE)\n",
        "criterion = nn.CrossEntropyLoss(ignore_index = PAD_IDX)"
      ]
    },
    {
      "cell_type": "code",
      "execution_count": null,
      "metadata": {
        "id": "hxZubzxiaXKY"
      },
      "outputs": [],
      "source": [
        "def train(model, iterator, optimizer, criterion, clip):\n",
        "\n",
        "  # set the model to training mode\n",
        "  model.train()\n",
        "\n",
        "  epoch_loss = 0\n",
        "\n",
        "  # loop through each batch in the iterator\n",
        "  for i, batch in enumerate(iterator):\n",
        "\n",
        "    # set the source and target batches\n",
        "    src,trg = batch\n",
        "\n",
        "    # zero the gradients\n",
        "    optimizer.zero_grad()\n",
        "\n",
        "    # logits for each output\n",
        "    logits = model(src, trg[:,:-1])\n",
        "\n",
        "    # expected output\n",
        "    expected_output = trg[:,1:]\n",
        "\n",
        "    # calculate the loss\n",
        "    loss = criterion(logits.contiguous().view(-1, logits.shape[-1]),\n",
        "                    expected_output.contiguous().view(-1))\n",
        "\n",
        "    # backpropagation\n",
        "    loss.backward()\n",
        "\n",
        "    # clip the weights\n",
        "    torch.nn.utils.clip_grad_norm_(model.parameters(), clip)\n",
        "\n",
        "    # update the weights\n",
        "    optimizer.step()\n",
        "\n",
        "    # update the loss\n",
        "    epoch_loss += loss.item()\n",
        "\n",
        "  # return the average loss for the epoch\n",
        "  return epoch_loss / len(iterator)"
      ]
    },
    {
      "cell_type": "code",
      "execution_count": null,
      "metadata": {
        "id": "DvBvJHNLaa7f"
      },
      "outputs": [],
      "source": [
        "\n",
        "def evaluate(model, iterator, criterion):\n",
        "\n",
        "  # set the model to evaluation mode\n",
        "  model.eval()\n",
        "\n",
        "  epoch_loss = 0\n",
        "\n",
        "  # evaluate without updating gradients\n",
        "  with torch.no_grad():\n",
        "\n",
        "    # loop through each batch in the iterator\n",
        "    for i, batch in enumerate(iterator):\n",
        "\n",
        "      # set the source and target batches\n",
        "      src, trg = batch\n",
        "\n",
        "\n",
        "      # logits for each output\n",
        "      logits = model(src, trg[:,:-1])\n",
        "\n",
        "      # expected output\n",
        "      expected_output = trg[:,1:]\n",
        "\n",
        "      # calculate the loss\n",
        "      loss = criterion(logits.contiguous().view(-1, logits.shape[-1]),\n",
        "                      expected_output.contiguous().view(-1))\n",
        "\n",
        "      # update the loss\n",
        "      epoch_loss += loss.item()\n",
        "\n",
        "  # return the average loss for the epoch\n",
        "  return epoch_loss / len(iterator)"
      ]
    },
    {
      "cell_type": "code",
      "execution_count": null,
      "metadata": {
        "id": "etoBd7cTac61"
      },
      "outputs": [],
      "source": [
        "def epoch_time(start_time, end_time):\n",
        "  elapsed_time = end_time - start_time\n",
        "  elapsed_mins = int(elapsed_time / 60)\n",
        "  elapsed_secs = int(elapsed_time - (elapsed_mins * 60))\n",
        "  return elapsed_mins, elapsed_secs"
      ]
    },
    {
      "cell_type": "code",
      "execution_count": null,
      "metadata": {
        "colab": {
          "base_uri": "https://localhost:8080/"
        },
        "id": "jr--To5zagRC",
        "outputId": "2827bcaa-5d0f-4215-ca38-fe31531d6ac3"
      },
      "outputs": [
        {
          "metadata": {
            "tags": null
          },
          "name": "stdout",
          "output_type": "stream",
          "text": [
            "Epoch: 01 | Time: 1m 27s\n",
            "\tTrain Loss: 2.932 | Train PPL:  18.770\n",
            "\t Val. Loss: 1.529 |  Val. PPL:   4.615\n",
            "Epoch: 02 | Time: 1m 29s\n",
            "\tTrain Loss: 1.353 | Train PPL:   3.869\n",
            "\t Val. Loss: 1.062 |  Val. PPL:   2.891\n",
            "Epoch: 03 | Time: 1m 28s\n",
            "\tTrain Loss: 0.920 | Train PPL:   2.509\n",
            "\t Val. Loss: 0.926 |  Val. PPL:   2.525\n",
            "Epoch: 04 | Time: 1m 28s\n",
            "\tTrain Loss: 0.716 | Train PPL:   2.046\n",
            "\t Val. Loss: 0.877 |  Val. PPL:   2.405\n",
            "Epoch: 05 | Time: 1m 28s\n",
            "\tTrain Loss: 0.599 | Train PPL:   1.819\n",
            "\t Val. Loss: 0.862 |  Val. PPL:   2.367\n",
            "Epoch: 06 | Time: 1m 28s\n",
            "\tTrain Loss: 0.523 | Train PPL:   1.687\n",
            "\t Val. Loss: 0.864 |  Val. PPL:   2.374\n",
            "Epoch: 07 | Time: 1m 27s\n",
            "\tTrain Loss: 0.469 | Train PPL:   1.598\n",
            "\t Val. Loss: 0.863 |  Val. PPL:   2.371\n",
            "Epoch: 08 | Time: 1m 28s\n",
            "\tTrain Loss: 0.426 | Train PPL:   1.531\n",
            "\t Val. Loss: 0.857 |  Val. PPL:   2.357\n",
            "Epoch: 09 | Time: 1m 27s\n",
            "\tTrain Loss: 0.389 | Train PPL:   1.476\n",
            "\t Val. Loss: 0.867 |  Val. PPL:   2.379\n",
            "Epoch: 10 | Time: 1m 28s\n",
            "\tTrain Loss: 0.362 | Train PPL:   1.436\n",
            "\t Val. Loss: 0.871 |  Val. PPL:   2.389\n"
          ]
        }
      ],
      "source": [
        "N_EPOCHS =10\n",
        "CLIP = 1\n",
        "\n",
        "best_valid_loss = float('inf')\n",
        "\n",
        "# loop through each epoch\n",
        "for epoch in range(N_EPOCHS):\n",
        "\n",
        "  start_time = time.time()\n",
        "\n",
        "  # calculate the train loss and update the parameters\n",
        "  train_loss = train(model, train_iter, optimizer, criterion, CLIP)\n",
        "\n",
        "  # calculate the loss on the validation set\n",
        "  valid_loss = evaluate(model, valid_iter, criterion)\n",
        "\n",
        "  end_time = time.time()\n",
        "\n",
        "  # calculate how long the epoch took\n",
        "  epoch_mins, epoch_secs = epoch_time(start_time, end_time)\n",
        "\n",
        "  # save the model when it performs better than the previous run\n",
        "  if valid_loss < best_valid_loss:\n",
        "    best_valid_loss = valid_loss\n",
        "    torch.save(model.state_dict(), 'transformer-model_tel.pt')\n",
        "\n",
        "  print(f'Epoch: {epoch+1:02} | Time: {epoch_mins}m {epoch_secs}s')\n",
        "  print(f'\\tTrain Loss: {train_loss:.3f} | Train PPL: {math.exp(train_loss):7.3f}')\n",
        "  print(f'\\t Val. Loss: {valid_loss:.3f} |  Val. PPL: {math.exp(valid_loss):7.3f}')"
      ]
    },
    {
      "cell_type": "code",
      "execution_count": null,
      "metadata": {
        "colab": {
          "base_uri": "https://localhost:8080/"
        },
        "id": "EnRyVGU2aivr",
        "outputId": "1a5cd341-3494-4822-85b9-59225ab7d72c"
      },
      "outputs": [
        {
          "output_type": "stream",
          "name": "stdout",
          "text": [
            "Test Loss: 0.860 | Test PPL:   2.362\n"
          ]
        }
      ],
      "source": [
        "# load the weights\n",
        "model.load_state_dict(torch.load('transformer-model_tel.pt'))\n",
        "\n",
        "# calculate the loss on the test set\n",
        "test_loss = evaluate(model, test_iter, criterion)\n",
        "\n",
        "print(f'Test Loss: {test_loss:.3f} | Test PPL: {math.exp(test_loss):7.3f}')"
      ]
    },
    {
      "cell_type": "code",
      "execution_count": null,
      "metadata": {
        "colab": {
          "base_uri": "https://localhost:8080/"
        },
        "id": "AcxXURzWpCre",
        "outputId": "734af1ac-7e96-4ef8-a390-6769b5850d35"
      },
      "outputs": [
        {
          "output_type": "stream",
          "name": "stdout",
          "text": [
            "source --> how was it ?\n",
            "target translation --> ఇది ఎలా ఉంది ?\n"
          ]
        }
      ],
      "source": [
        "import torch\n",
        "\n",
        "def translate_sentence(sentence, model, device, vocab_src, vocab_trg, tokenizer_te, max_length=50):\n",
        "    model.eval()\n",
        "\n",
        "    # Check if the input is a string and tokenize accordingly\n",
        "    if isinstance(sentence, str):\n",
        "        # Tokenize the sentence using the Telugu tokenizer\n",
        "        tokens = tokenizer_te(sentence)\n",
        "        src = ['<bos>'] + [token.lower() for token in tokens] + ['<eos>']\n",
        "    else:\n",
        "        src = ['<bos>'] + sentence + ['<eos>']\n",
        "\n",
        "    # Map the tokens to their respective indices in the source vocabulary\n",
        "    src_indexes = [vocab_src[token] if token in vocab_src else vocab_src['<unk>'] for token in src]\n",
        "\n",
        "    # Convert the list of indices to a tensor and add a batch dimension\n",
        "    src_tensor = torch.tensor(src_indexes, dtype=torch.long).unsqueeze(0).to(device)\n",
        "\n",
        "    # Initialize the list of target indices with the index of '<bos>'\n",
        "    trg_indexes = [vocab_trg['<bos>']]\n",
        "\n",
        "    # Initialize the loop to generate tokens up to a maximum length\n",
        "    for i in range(max_length):\n",
        "        # Convert the current list of target indices to a tensor and add a batch dimension\n",
        "        trg_tensor = torch.tensor(trg_indexes, dtype=torch.long).unsqueeze(0).to(device)\n",
        "\n",
        "        with torch.no_grad():\n",
        "            # Feed the source and target tensors to the model to get the logits\n",
        "            output = model(src_tensor, trg_tensor)\n",
        "            pred_token = output.argmax(2)[:, -1].item()\n",
        "\n",
        "            # Check if the predicted token is '<eos>' or the maximum length is reached\n",
        "            if pred_token == vocab_trg['<eos>'] or i == (max_length - 1):\n",
        "                # Convert indices to tokens\n",
        "                trg_tokens = [vocab_trg.lookup_token(index) for index in trg_indexes[1:]]  # Skip '<bos>'\n",
        "                return src, trg_tokens\n",
        "\n",
        "            # Append the predicted token to the list of target indices\n",
        "            trg_indexes.append(pred_token)\n",
        "\n",
        "# Example usage\n",
        "src_text = \"how was it?\"\n",
        "model = model  # Replace with your actual model\n",
        "device = 'cuda' if torch.cuda.is_available() else 'cpu'  # Assuming CUDA is available and appropriate\n",
        "src, trg_tokens = translate_sentence(src_text, model, device, vocab_src, vocab_trg, tokenizer_te)\n",
        "print(f'source --> {\" \".join(src[1:-1])}')\n",
        "print(f'target translation --> {\" \".join(trg_tokens)}')\n"
      ]
    },
    {
      "cell_type": "code",
      "execution_count": null,
      "metadata": {
        "id": "RWoWhg52TMhQ",
        "colab": {
          "base_uri": "https://localhost:8080/"
        },
        "outputId": "8dc7aa3d-b344-49d6-b9c1-f0e345ca3ac8"
      },
      "outputs": [
        {
          "output_type": "stream",
          "name": "stdout",
          "text": [
            "source --> the technology is increasing rapidly\n",
            "target translation --> సాంకేతిక పరిజ్ఞానం వేగంగా పెరుగుతోంది .\n"
          ]
        }
      ],
      "source": [
        "src_text = \"The technology is increasing rapidly\"\n",
        "src, trg_tokens = translate_sentence(src_text, model, device, vocab_src, vocab_trg, tokenizer_te)\n",
        "print(f'source --> {\" \".join(src[1:-1])}')\n",
        "print(f'target translation --> {\" \".join(trg_tokens)}')\n"
      ]
    },
    {
      "cell_type": "code",
      "source": [
        "src_text = \"I love learning new languages\"\n",
        "src, trg_tokens = translate_sentence(src_text, model, device, vocab_src, vocab_trg, tokenizer_te)\n",
        "print(f'source --> {\" \".join(src[1:-1])}')\n",
        "print(f'target translation --> {\" \".join(trg_tokens)}')\n"
      ],
      "metadata": {
        "colab": {
          "base_uri": "https://localhost:8080/"
        },
        "id": "R8kaD5kRTk9S",
        "outputId": "89fa21bf-ac01-4b2a-c5aa-a7a46f8ba671"
      },
      "execution_count": null,
      "outputs": [
        {
          "output_type": "stream",
          "name": "stdout",
          "text": [
            "source --> i love learning new languages\n",
            "target translation --> కొత్త భాషలు నేర్చుకోవడం నాకు చాలా ఇష్టం .\n"
          ]
        }
      ]
    },
    {
      "cell_type": "code",
      "source": [
        "src_text = \"This is a wonderful experience\"\n",
        "src, trg_tokens = translate_sentence(src_text, model, device, vocab_src, vocab_trg, tokenizer_te)\n",
        "print(f'source --> {\" \".join(src[1:-1])}')\n",
        "print(f'target translation --> {\" \".join(trg_tokens)}')\n",
        "\n"
      ],
      "metadata": {
        "colab": {
          "base_uri": "https://localhost:8080/"
        },
        "id": "r5CByFy5T_By",
        "outputId": "ec1c105a-657f-471b-fe80-e9e263a891d9"
      },
      "execution_count": null,
      "outputs": [
        {
          "output_type": "stream",
          "name": "stdout",
          "text": [
            "source --> this is a wonderful experience\n",
            "target translation --> ఇది అద్భుతమైన అనుభవం .\n"
          ]
        }
      ]
    },
    {
      "cell_type": "code",
      "source": [
        "src_text = \"Can you help me with this task?\"\n",
        "src, trg_tokens = translate_sentence(src_text, model, device, vocab_src, vocab_trg, tokenizer_te)\n",
        "print(f'source --> {\" \".join(src[1:-1])}')\n",
        "print(f'target translation --> {\" \".join(trg_tokens)}')\n"
      ],
      "metadata": {
        "colab": {
          "base_uri": "https://localhost:8080/"
        },
        "id": "DTvADHT2UBe5",
        "outputId": "217cf789-03f4-4403-f969-5dd9b19f9e05"
      },
      "execution_count": null,
      "outputs": [
        {
          "output_type": "stream",
          "name": "stdout",
          "text": [
            "source --> can you help me with this task ?\n",
            "target translation --> ఈ పనికి మీరు నాకు సహాయం చేయగలరా ?\n"
          ]
        }
      ]
    },
    {
      "cell_type": "code",
      "source": [
        "src_text = \"Our company is doing great\"\n",
        "src, trg_tokens = translate_sentence(src_text, model, device, vocab_src, vocab_trg, tokenizer_te)\n",
        "print(f'source --> {\" \".join(src[1:-1])}')\n",
        "print(f'target translation --> {\" \".join(trg_tokens)}')\n"
      ],
      "metadata": {
        "colab": {
          "base_uri": "https://localhost:8080/"
        },
        "id": "f4EJUe-RUcVu",
        "outputId": "a4c2ce61-043f-40a3-8825-bbff416ff987"
      },
      "execution_count": null,
      "outputs": [
        {
          "output_type": "stream",
          "name": "stdout",
          "text": [
            "source --> our company is doing great\n",
            "target translation --> మా కంపెనీ గొప్ప పని చేస్తోంది .\n"
          ]
        }
      ]
    },
    {
      "cell_type": "code",
      "source": [],
      "metadata": {
        "id": "_sMdUkpeUga-"
      },
      "execution_count": null,
      "outputs": []
    }
  ],
  "metadata": {
    "accelerator": "GPU",
    "colab": {
      "gpuType": "T4",
      "provenance": []
    },
    "kernelspec": {
      "display_name": "Python 3",
      "name": "python3"
    },
    "language_info": {
      "name": "python"
    }
  },
  "nbformat": 4,
  "nbformat_minor": 0
}